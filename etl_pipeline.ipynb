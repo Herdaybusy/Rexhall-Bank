{
 "cells": [
  {
   "cell_type": "markdown",
   "metadata": {},
   "source": [
    "Import Necessary libraries"
   ]
  },
  {
   "cell_type": "code",
   "execution_count": 1,
   "metadata": {},
   "outputs": [],
   "source": [
    "from pyspark.sql import SparkSession\n",
    "from pyspark.sql.functions import monotonically_increasing_id\n",
    "from pyspark.sql import DataFrameWriter\n",
    "import os\n",
    "import psycopg2"
   ]
  },
  {
   "cell_type": "code",
   "execution_count": 2,
   "metadata": {},
   "outputs": [],
   "source": [
    "# Set Java Home\n",
    "os.environ['JAVA_HOME'] = r'C:\\java8'"
   ]
  },
  {
   "cell_type": "code",
   "execution_count": 3,
   "metadata": {},
   "outputs": [],
   "source": [
    "# Initialise Spark Session\n",
    "spark = SparkSession.builder\\\n",
    "         .appName(\"Rexhall Bank ETL\")\\\n",
    "         .config(\"spark.jars\", r\"C:\\Users\\DELL\\OneDrive\\DATA ENGINEERING FOLDER\\Rexhall Bank\")\\\n",
    "         .getOrCreate()"
   ]
  },
  {
   "cell_type": "code",
   "execution_count": 4,
   "metadata": {},
   "outputs": [
    {
     "data": {
      "text/html": [
       "\n",
       "            <div>\n",
       "                <p><b>SparkSession - in-memory</b></p>\n",
       "                \n",
       "        <div>\n",
       "            <p><b>SparkContext</b></p>\n",
       "\n",
       "            <p><a href=\"http://BC-CROWN:4040\">Spark UI</a></p>\n",
       "\n",
       "            <dl>\n",
       "              <dt>Version</dt>\n",
       "                <dd><code>v3.5.4</code></dd>\n",
       "              <dt>Master</dt>\n",
       "                <dd><code>local[*]</code></dd>\n",
       "              <dt>AppName</dt>\n",
       "                <dd><code>Rexhall Bank ETL</code></dd>\n",
       "            </dl>\n",
       "        </div>\n",
       "        \n",
       "            </div>\n",
       "        "
      ],
      "text/plain": [
       "<pyspark.sql.session.SparkSession at 0x2c13dfdfda0>"
      ]
     },
     "execution_count": 4,
     "metadata": {},
     "output_type": "execute_result"
    }
   ],
   "source": [
    "spark"
   ]
  },
  {
   "cell_type": "code",
   "execution_count": 5,
   "metadata": {},
   "outputs": [],
   "source": [
    "# Extract the data into a spark dataframe\n",
    "rexhall_bank_df = spark.read.csv(r\"data_set\\raw_data\\rexhall_bank_transactions.csv\", header=True, inferSchema=True)"
   ]
  },
  {
   "cell_type": "code",
   "execution_count": 6,
   "metadata": {},
   "outputs": [
    {
     "name": "stdout",
     "output_type": "stream",
     "text": [
      "+--------------------+------+----------------+--------------+--------------------+------------------+--------------+--------------------+--------------------+--------------------+--------------------+-------------------+------------------+--------------------+-------------+-------------+--------+-----+---------+--------------------+--------------------+------+--------------+\n",
      "|    Transaction_Date|Amount|Transaction_Type| Customer_Name|    Customer_Address|     Customer_City|Customer_State|    Customer_Country|             Company|           Job_Title|               Email|       Phone_Number|Credit_Card_Number|                IBAN|Currency_Code|Random_Number|Category|Group|Is_Active|        Last_Updated|         Description|Gender|Marital_Status|\n",
      "+--------------------+------+----------------+--------------+--------------------+------------------+--------------+--------------------+--------------------+--------------------+--------------------+-------------------+------------------+--------------------+-------------+-------------+--------+-----+---------+--------------------+--------------------+------+--------------+\n",
      "|2024-03-23 15:38:...| 34.76|      Withdrawal|    James Neal|54912 Holmes Lodg...| West Keithborough|       Florida|                Togo|Benson, Johnson a...|                NULL|                NULL|  493.720.6609x7545|  3592901394693441|GB98RBPP090285271...|          MAD|       3167.0|       C|    Z|       No|2020-06-20 03:04:...|Yeah food anythin...| Other|      Divorced|\n",
      "|2024-04-22 19:15:...|163.92|      Withdrawal|   Thomas Long| 1133 Collin Passage|        Joshuabury|   Connecticut|Lao People's Demo...|                NULL|   Food technologist|michellelynch@exa...|      (497)554-3317|              NULL|GB03KFZR339662263...|          VEF|       2122.0|       B|    Z|     NULL|2020-12-27 13:23:...|Teach edge make n...|Female|       Married|\n",
      "|2024-04-12 19:46:...|386.32|      Withdrawal|Ashley Shelton|5297 Johnson Port...|       North Maria|    New Jersey|              Bhutan|       Jones-Mueller|Database administ...| ljordan@example.org|      (534)769-3072|      675983949974|GB59QYRN446730519...|          COP|       7796.0|       C|    Z|       No|2020-01-24 01:23:...|Again line face c...| Other|          NULL|\n",
      "|2024-04-17 15:29:...|407.15|         Deposit| James Rosario|56955 Moore Glens...|North Michellefurt|    New Mexico|             Iceland|       Vargas-Harris|Horticultural the...|parkerjames@examp...|+1-447-900-1320x257|     4761202519057|GB74FTDO268299438...|          BWP|       6284.0|       C|    Z|      Yes|2023-09-27 03:01:...|     Bag my a drive.|  NULL|          NULL|\n",
      "|2024-02-10 01:51:...|161.31|         Deposit|Miguel Leonard|262 Beck Expressw...|              NULL| West Virginia|             Eritrea|Richardson, Gonza...|   Minerals surveyor| zweaver@example.net|               NULL|   213156729655186|GB94EWRN587847592...|          SOS|       9179.0|       C|    Y|       No|2022-01-22 19:08:...|Husband find ok w...|Female|       Married|\n",
      "+--------------------+------+----------------+--------------+--------------------+------------------+--------------+--------------------+--------------------+--------------------+--------------------+-------------------+------------------+--------------------+-------------+-------------+--------+-----+---------+--------------------+--------------------+------+--------------+\n",
      "only showing top 5 rows\n",
      "\n"
     ]
    }
   ],
   "source": [
    "rexhall_bank_df.show(5)"
   ]
  },
  {
   "cell_type": "code",
   "execution_count": 7,
   "metadata": {},
   "outputs": [
    {
     "name": "stdout",
     "output_type": "stream",
     "text": [
      "root\n",
      " |-- Transaction_Date: timestamp (nullable = true)\n",
      " |-- Amount: double (nullable = true)\n",
      " |-- Transaction_Type: string (nullable = true)\n",
      " |-- Customer_Name: string (nullable = true)\n",
      " |-- Customer_Address: string (nullable = true)\n",
      " |-- Customer_City: string (nullable = true)\n",
      " |-- Customer_State: string (nullable = true)\n",
      " |-- Customer_Country: string (nullable = true)\n",
      " |-- Company: string (nullable = true)\n",
      " |-- Job_Title: string (nullable = true)\n",
      " |-- Email: string (nullable = true)\n",
      " |-- Phone_Number: string (nullable = true)\n",
      " |-- Credit_Card_Number: long (nullable = true)\n",
      " |-- IBAN: string (nullable = true)\n",
      " |-- Currency_Code: string (nullable = true)\n",
      " |-- Random_Number: double (nullable = true)\n",
      " |-- Category: string (nullable = true)\n",
      " |-- Group: string (nullable = true)\n",
      " |-- Is_Active: string (nullable = true)\n",
      " |-- Last_Updated: timestamp (nullable = true)\n",
      " |-- Description: string (nullable = true)\n",
      " |-- Gender: string (nullable = true)\n",
      " |-- Marital_Status: string (nullable = true)\n",
      "\n"
     ]
    }
   ],
   "source": [
    "rexhall_bank_df.printSchema()"
   ]
  },
  {
   "cell_type": "markdown",
   "metadata": {},
   "source": [
    "Data cleaning and Transformation\n"
   ]
  },
  {
   "cell_type": "markdown",
   "metadata": {},
   "source": [
    "Data Cleaning"
   ]
  },
  {
   "cell_type": "code",
   "execution_count": 8,
   "metadata": {},
   "outputs": [
    {
     "name": "stdout",
     "output_type": "stream",
     "text": [
      "Transaction_Date Nulls: 0\n",
      "Amount Nulls: 0\n",
      "Transaction_Type Nulls: 0\n",
      "Customer_Name Nulls: 100425\n",
      "Customer_Address Nulls: 100087\n",
      "Customer_City Nulls: 100034\n",
      "Customer_State Nulls: 100009\n",
      "Customer_Country Nulls: 100672\n",
      "Company Nulls: 100295\n",
      "Job_Title Nulls: 99924\n",
      "Email Nulls: 100043\n",
      "Phone_Number Nulls: 100524\n",
      "Credit_Card_Number Nulls: 100085\n",
      "IBAN Nulls: 100300\n",
      "Currency_Code Nulls: 99342\n",
      "Random_Number Nulls: 99913\n",
      "Category Nulls: 100332\n",
      "Group Nulls: 100209\n",
      "Is_Active Nulls: 100259\n",
      "Last_Updated Nulls: 100321\n",
      "Description Nulls: 100403\n",
      "Gender Nulls: 99767\n",
      "Marital_Status Nulls: 99904\n"
     ]
    }
   ],
   "source": [
    "for column in rexhall_bank_df.columns:\n",
    "    print(column, \"Nulls:\", rexhall_bank_df.filter(rexhall_bank_df[column].isNull()).count())"
   ]
  },
  {
   "cell_type": "code",
   "execution_count": 9,
   "metadata": {},
   "outputs": [
    {
     "name": "stdout",
     "output_type": "stream",
     "text": [
      "+-------+-----------------+----------------+-------------+--------------------+-------------+--------------+----------------+-------------+------------------+-------------------+-------------------+--------------------+--------------------+-------------+------------------+--------+------+---------+--------------------+------+--------------+\n",
      "|summary|           Amount|Transaction_Type|Customer_Name|    Customer_Address|Customer_City|Customer_State|Customer_Country|      Company|         Job_Title|              Email|       Phone_Number|  Credit_Card_Number|                IBAN|Currency_Code|     Random_Number|Category| Group|Is_Active|         Description|Gender|Marital_Status|\n",
      "+-------+-----------------+----------------+-------------+--------------------+-------------+--------------+----------------+-------------+------------------+-------------------+-------------------+--------------------+--------------------+-------------+------------------+--------+------+---------+--------------------+------+--------------+\n",
      "|  count|          1000000|         1000000|       899575|              899913|       899966|        899991|          899328|       899705|            900076|             899957|             899476|              899915|              899700|       900658|            900087|  899668|899791|   899741|              899597|900233|        900096|\n",
      "|   mean|504.9737112199981|            NULL|         NULL|                NULL|         NULL|          NULL|            NULL|         NULL|              NULL|               NULL| 6.00341888622502E9|3.785330130644790...|                NULL|         NULL| 5504.445295843624|    NULL|  NULL|     NULL|                NULL|  NULL|          NULL|\n",
      "| stddev|285.7997202441234|            NULL|         NULL|                NULL|         NULL|          NULL|            NULL|         NULL|              NULL|               NULL|2.307111981222392E9|1.247765855631418...|                NULL|         NULL|2598.1680843741237|    NULL|  NULL|     NULL|                NULL|  NULL|          NULL|\n",
      "|    min|             10.0|         Deposit| Aaron Abbott|000 Aaron Landing...|    Aaronberg|       Alabama|     Afghanistan| Abbott Group|Academic librarian|aabbott@example.com|      (200)201-4254|         60400015693|GB02AAAU191993009...|          AED|            1000.0|       A|     X|       No|A American and to...|Female|      Divorced|\n",
      "|    max|           1000.0|      Withdrawal|    Zoe Young|    99999 Mark Vista|  Zunigaville|       Wyoming|        Zimbabwe|Zuniga-Wilson|      Youth worker|zzuniga@example.org|         9999777682| 4999984361512569455|GB98ZZXM257326775...|          ZWD|            9999.0|       D|     Z|      Yes|Yourself young ev...| Other|        Single|\n",
      "+-------+-----------------+----------------+-------------+--------------------+-------------+--------------+----------------+-------------+------------------+-------------------+-------------------+--------------------+--------------------+-------------+------------------+--------+------+---------+--------------------+------+--------------+\n",
      "\n"
     ]
    }
   ],
   "source": [
    "# To known the summary statistics of the data\n",
    "rexhall_bank_df.describe().show()"
   ]
  },
  {
   "cell_type": "code",
   "execution_count": 10,
   "metadata": {},
   "outputs": [],
   "source": [
    "# Filling the missing values in the data\n",
    "clean_rexhall_df = rexhall_bank_df.fillna({\n",
    "    'Customer_Name': 'Unknown',\n",
    "    'Customer_Address': 'Unknown',\n",
    "    'Customer_State': 'Unknown',\n",
    "    'Customer_City': 'Unknown',\n",
    "    'Customer_Country': 'Unknown',\n",
    "    'Company' : 'Unknown',\n",
    "    'Job_Title': 'Unknown',\n",
    "    'Email': 'Unknown',\n",
    "    'Phone_Number': 'Unknown',\n",
    "    'Credit_Card_Number': 0,\n",
    "    'IBAN': 'Unknown',\n",
    "    'Currency_Code': 'Unknown',\n",
    "    'Random_Number': 0.0,\n",
    "    'Category': 'Unknown',\n",
    "    'Group': 'Unknown',\n",
    "    'Is_Active': 'Unknown',\n",
    "    'Description': 'Unknown',\n",
    "    'Gender': 'Unknown',\n",
    "    'Marital_Status': 'Unknown'\n",
    "})"
   ]
  },
  {
   "cell_type": "code",
   "execution_count": 11,
   "metadata": {},
   "outputs": [],
   "source": [
    "# drop missing values in Last_Updated column\n",
    "clean_rexhall_df = clean_rexhall_df.na.drop(subset=['Last_Updated'])"
   ]
  },
  {
   "cell_type": "code",
   "execution_count": 12,
   "metadata": {},
   "outputs": [
    {
     "name": "stdout",
     "output_type": "stream",
     "text": [
      "Transaction_Date Nulls: 0\n",
      "Amount Nulls: 0\n",
      "Transaction_Type Nulls: 0\n",
      "Customer_Name Nulls: 0\n",
      "Customer_Address Nulls: 0\n",
      "Customer_City Nulls: 0\n",
      "Customer_State Nulls: 0\n",
      "Customer_Country Nulls: 0\n",
      "Company Nulls: 0\n",
      "Job_Title Nulls: 0\n",
      "Email Nulls: 0\n",
      "Phone_Number Nulls: 0\n",
      "Credit_Card_Number Nulls: 0\n",
      "IBAN Nulls: 0\n",
      "Currency_Code Nulls: 0\n",
      "Random_Number Nulls: 0\n",
      "Category Nulls: 0\n",
      "Group Nulls: 0\n",
      "Is_Active Nulls: 0\n",
      "Last_Updated Nulls: 0\n",
      "Description Nulls: 0\n",
      "Gender Nulls: 0\n",
      "Marital_Status Nulls: 0\n"
     ]
    }
   ],
   "source": [
    "# Confirmation\n",
    "for column in clean_rexhall_df.columns:\n",
    "    print(column, \"Nulls:\", clean_rexhall_df.filter(clean_rexhall_df[column].isNull()).count())"
   ]
  },
  {
   "cell_type": "markdown",
   "metadata": {},
   "source": [
    "Data Transformation"
   ]
  },
  {
   "cell_type": "code",
   "execution_count": 13,
   "metadata": {},
   "outputs": [],
   "source": [
    "# Creating Transaction table\n",
    "transaction = clean_rexhall_df.select('Transaction_Date', 'Amount', 'Transaction_Type') \\\n",
    "                .withColumn('Transaction_ID', monotonically_increasing_id())\\\n",
    "                .select('Transaction_ID', 'Transaction_Date', 'Amount', 'Transaction_Type')\n",
    "                "
   ]
  },
  {
   "cell_type": "code",
   "execution_count": 14,
   "metadata": {},
   "outputs": [
    {
     "name": "stdout",
     "output_type": "stream",
     "text": [
      "+--------------+--------------------+------+----------------+\n",
      "|Transaction_ID|    Transaction_Date|Amount|Transaction_Type|\n",
      "+--------------+--------------------+------+----------------+\n",
      "|             0|2024-03-23 15:38:...| 34.76|      Withdrawal|\n",
      "|             1|2024-04-22 19:15:...|163.92|      Withdrawal|\n",
      "|             2|2024-04-12 19:46:...|386.32|      Withdrawal|\n",
      "|             3|2024-04-17 15:29:...|407.15|         Deposit|\n",
      "|             4|2024-02-10 01:51:...|161.31|         Deposit|\n",
      "+--------------+--------------------+------+----------------+\n",
      "only showing top 5 rows\n",
      "\n"
     ]
    }
   ],
   "source": [
    "transaction.show(5)"
   ]
  },
  {
   "cell_type": "code",
   "execution_count": null,
   "metadata": {},
   "outputs": [],
   "source": [
    "# Customers table\n",
    "customer = clean_rexhall_df.select('Customer_Name', 'Customer_Address', 'Customer_State', 'Customer_City', 'Customer_Country')\\\n",
    "            .withColumn('Customer_ID', monotonically_increasing_id())\\\n",
    "            .select('Customer_ID', 'Customer_Name', 'Customer_Address', 'Customer_State', 'Customer_City', 'Customer_Country')"
   ]
  },
  {
   "cell_type": "code",
   "execution_count": 16,
   "metadata": {},
   "outputs": [
    {
     "name": "stdout",
     "output_type": "stream",
     "text": [
      "+-----------+--------------+--------------------+--------------+------------------+--------------------+\n",
      "|Customer_ID| Customer_Name|    Customer_Address|Customer_State|     Customer_City|    Customer_Country|\n",
      "+-----------+--------------+--------------------+--------------+------------------+--------------------+\n",
      "|          0|    James Neal|54912 Holmes Lodg...|       Florida| West Keithborough|                Togo|\n",
      "|          1|   Thomas Long| 1133 Collin Passage|   Connecticut|        Joshuabury|Lao People's Demo...|\n",
      "|          2|Ashley Shelton|5297 Johnson Port...|    New Jersey|       North Maria|              Bhutan|\n",
      "|          3| James Rosario|56955 Moore Glens...|    New Mexico|North Michellefurt|             Iceland|\n",
      "|          4|Miguel Leonard|262 Beck Expressw...| West Virginia|           Unknown|             Eritrea|\n",
      "+-----------+--------------+--------------------+--------------+------------------+--------------------+\n",
      "only showing top 5 rows\n",
      "\n"
     ]
    }
   ],
   "source": [
    "customer.show(5)"
   ]
  },
  {
   "cell_type": "code",
   "execution_count": 17,
   "metadata": {},
   "outputs": [],
   "source": [
    "# Employee table\n",
    "employee = clean_rexhall_df.select('Company', 'Job_Title', 'Email', 'Phone_Number','Gender', 'Marital_Status')\\\n",
    "            .withColumn('Employee_ID', monotonically_increasing_id())\\\n",
    "            .select('Employee_ID','Company', 'Job_Title', 'Email', 'Phone_Number','Gender', 'Marital_Status')"
   ]
  },
  {
   "cell_type": "code",
   "execution_count": 18,
   "metadata": {},
   "outputs": [
    {
     "name": "stdout",
     "output_type": "stream",
     "text": [
      "+-----------+--------------------+--------------------+--------------------+-------------------+-------+--------------+\n",
      "|Employee_ID|             Company|           Job_Title|               Email|       Phone_Number| Gender|Marital_Status|\n",
      "+-----------+--------------------+--------------------+--------------------+-------------------+-------+--------------+\n",
      "|          0|Benson, Johnson a...|             Unknown|             Unknown|  493.720.6609x7545|  Other|      Divorced|\n",
      "|          1|             Unknown|   Food technologist|michellelynch@exa...|      (497)554-3317| Female|       Married|\n",
      "|          2|       Jones-Mueller|Database administ...| ljordan@example.org|      (534)769-3072|  Other|       Unknown|\n",
      "|          3|       Vargas-Harris|Horticultural the...|parkerjames@examp...|+1-447-900-1320x257|Unknown|       Unknown|\n",
      "|          4|Richardson, Gonza...|   Minerals surveyor| zweaver@example.net|            Unknown| Female|       Married|\n",
      "+-----------+--------------------+--------------------+--------------------+-------------------+-------+--------------+\n",
      "only showing top 5 rows\n",
      "\n"
     ]
    }
   ],
   "source": [
    "employee.show(5)"
   ]
  },
  {
   "cell_type": "code",
   "execution_count": 19,
   "metadata": {},
   "outputs": [],
   "source": [
    "# Rexford Bank  fact table\n",
    "fact_table = clean_rexhall_df \\\n",
    "    .join(transaction, ['Transaction_Date', 'Amount', 'Transaction_Type'], 'inner') \\\n",
    "    .join(customer, ['Customer_Name', 'Customer_Address', 'Customer_State', 'Customer_City', 'Customer_Country'], 'inner') \\\n",
    "    .join(employee, ['Company', 'Job_Title', 'Email', 'Phone_Number', 'Gender', 'Marital_Status'], 'inner') \\\n",
    "    .select('Transaction_ID', 'Customer_ID', 'Employee_ID', 'Credit_Card_Number', 'IBAN', \n",
    "            'Currency_Code', 'Random_Number', 'Category', 'Group', 'Is_Active', \n",
    "            'Description', 'Last_Updated')"
   ]
  },
  {
   "cell_type": "code",
   "execution_count": 20,
   "metadata": {},
   "outputs": [
    {
     "name": "stdout",
     "output_type": "stream",
     "text": [
      "+--------------+-----------+-----------+-------------------+--------------------+-------------+-------------+--------+-----+---------+--------------------+--------------------+\n",
      "|Transaction_ID|Customer_ID|Employee_ID| Credit_Card_Number|                IBAN|Currency_Code|Random_Number|Category|Group|Is_Active|         Description|        Last_Updated|\n",
      "+--------------+-----------+-----------+-------------------+--------------------+-------------+-------------+--------+-----+---------+--------------------+--------------------+\n",
      "|   17179921196|17179921196|17179921196|4131053293826613966|GB78CKOS832138470...|          GNF|       7475.0|       B|    Z|      Yes|Health sure story...|2022-02-06 23:35:...|\n",
      "|         29992|      29992|      29992|   2452924189738024|GB50ZGVC717046003...|          TRY|       9153.0|       D|    Z|       No|Wait represent ge...|2021-11-26 08:47:...|\n",
      "|   25769840960|25769840960|25769840960|   4625846628264239|GB97NDWP370396356...|          BSD|       6117.0| Unknown|    X|      Yes|Onto give past no...|2023-02-14 08:41:...|\n",
      "|   60129626495|60129626495|60129626495|                  0|GB11VVRM027865406...|      Unknown|       6669.0|       C|    X|       No|Teach military ev...|2022-04-13 17:22:...|\n",
      "|        103516|     103516|     103516|     30167114834907|GB09TXTK261344054...|          PHP|          0.0|       C|    Z|      Yes|Sport internation...|2022-11-03 23:14:...|\n",
      "+--------------+-----------+-----------+-------------------+--------------------+-------------+-------------+--------+-----+---------+--------------------+--------------------+\n",
      "only showing top 5 rows\n",
      "\n"
     ]
    }
   ],
   "source": [
    "fact_table.show(5)"
   ]
  },
  {
   "cell_type": "markdown",
   "metadata": {},
   "source": [
    "Converting from spark dataframe to pandas dataframe"
   ]
  },
  {
   "cell_type": "code",
   "execution_count": null,
   "metadata": {},
   "outputs": [],
   "source": [
    "\n",
    "customer_pd = customer.toPandas()\n",
    "transaction_pd = transaction.toPandas()\n",
    "employee_pd = employee.toPandas()\n",
    "fact_table_pd = fact_table.toPandas()"
   ]
  },
  {
   "cell_type": "markdown",
   "metadata": {},
   "source": [
    "Saving the data to a csv file"
   ]
  },
  {
   "cell_type": "code",
   "execution_count": 54,
   "metadata": {},
   "outputs": [],
   "source": [
    "# Writing the data to a csv file\n",
    "customer_pd.to_csv('data_set/cleaned_data/customer.csv', index=False)\n",
    "transaction_pd.to_csv('data_set/cleaned_data/transaction.csv', index=False)\n",
    "employee_pd.to_csv('data_set/cleaned_data/employee.csv', index=False)\n",
    "fact_table_pd.to_csv('data_set/cleaned_data/fact_table.csv', index=False)"
   ]
  },
  {
   "cell_type": "markdown",
   "metadata": {},
   "source": [
    "Loading the data into a postgres database"
   ]
  },
  {
   "cell_type": "code",
   "execution_count": null,
   "metadata": {},
   "outputs": [],
   "source": [
    "# Importing the necessary libraries\n",
    "from dotenv import load_dotenv\n",
    "from sqlalchemy import create_engine, text\n",
    "import os"
   ]
  },
  {
   "cell_type": "code",
   "execution_count": null,
   "metadata": {},
   "outputs": [],
   "source": [
    "# Loading the environment variables\n",
    "load_dotenv(override=True)\n",
    "db_user = os.getenv('DB_USER')\n",
    "db_name = os.getenv('DB_NAME')\n",
    "db_host = os.getenv('DB_HOST')\n",
    "db_port = os.getenv('DB_PORT')\n",
    "db_password = os.getenv('DB_PASSWORD')"
   ]
  },
  {
   "cell_type": "code",
   "execution_count": null,
   "metadata": {},
   "outputs": [],
   "source": [
    "# Creating the database url\n",
    "database_url = f\"postgresql+psycopg2://{db_user}:{db_password}@{db_host}:{db_port}/{db_name}\"\n",
    "engine = create_engine(database_url)"
   ]
  },
  {
   "cell_type": "code",
   "execution_count": 59,
   "metadata": {},
   "outputs": [
    {
     "name": "stdout",
     "output_type": "stream",
     "text": [
      "Data loaded successfully\n"
     ]
    }
   ],
   "source": [
    "# Loading the data into a postgres database\n",
    "customer_pd.to_sql('customer', engine, if_exists='replace', index=False)\n",
    "transaction_pd.to_sql('transaction', engine, if_exists='replace', index=False)\n",
    "employee_pd.to_sql('employee', engine, if_exists='replace', index=False)\n",
    "fact_table_pd.to_sql('fact_table', engine, if_exists='replace', index=False)\n",
    "print(\"Data loaded successfully\")"
   ]
  }
 ],
 "metadata": {
  "kernelspec": {
   "display_name": "base",
   "language": "python",
   "name": "python3"
  },
  "language_info": {
   "codemirror_mode": {
    "name": "ipython",
    "version": 3
   },
   "file_extension": ".py",
   "mimetype": "text/x-python",
   "name": "python",
   "nbconvert_exporter": "python",
   "pygments_lexer": "ipython3",
   "version": "3.12.7"
  }
 },
 "nbformat": 4,
 "nbformat_minor": 2
}
